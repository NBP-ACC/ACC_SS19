{
 "cells": [
  {
   "cell_type": "markdown",
   "metadata": {},
   "source": [
    "# Python excercise: Action & Cognition Computational Cognition\n",
    "\n",
    "Here are some exercises to test your basic knowledge in Python programming\n",
    "Author"
   ]
  },
  {
   "cell_type": "markdown",
   "metadata": {},
   "source": [
    "## 1. String operations\n",
    "\n",
    "Q1.1: The first and the last name are given as separate string objects. Concatenate these two strings to get \"Ada Lovelace\" and assign it to the variable $fullname$."
   ]
  },
  {
   "cell_type": "code",
   "execution_count": 1,
   "metadata": {
    "collapsed": true
   },
   "outputs": [],
   "source": [
    "first_name = 'Ada'\n",
    "last_name = 'Lovelace'"
   ]
  },
  {
   "cell_type": "code",
   "execution_count": 2,
   "metadata": {
    "collapsed": true
   },
   "outputs": [],
   "source": [
    "full_name = first_name + ' ' + last_name"
   ]
  },
  {
   "cell_type": "markdown",
   "metadata": {},
   "source": [
    "Q1.2: Print a simple message \"Hello Ada Lovelace, how are you?\" using string formatting (Don't print Ada Lovelace explicitly, use $fullname$)."
   ]
  },
  {
   "cell_type": "code",
   "execution_count": 3,
   "metadata": {},
   "outputs": [
    {
     "name": "stdout",
     "output_type": "stream",
     "text": [
      "Hello Ada Lovelace, how are you?\n"
     ]
    }
   ],
   "source": [
    "print('Hello {}, how are you?' .format(full_name))"
   ]
  },
  {
   "cell_type": "markdown",
   "metadata": {},
   "source": [
    "## 2. Lists\n",
    "\n",
    "Q2.1: Initialise a list which contains integer 1, 2, 3, 4. Name the object as $list1$."
   ]
  },
  {
   "cell_type": "code",
   "execution_count": 34,
   "metadata": {
    "collapsed": true
   },
   "outputs": [],
   "source": [
    "list1 = [1, 2, 3, 4]"
   ]
  },
  {
   "cell_type": "markdown",
   "metadata": {},
   "source": [
    "Q2.2: Insert integer 7 at the end of the $list1$ and integer 5 between integer 3 and 4. "
   ]
  },
  {
   "cell_type": "code",
   "execution_count": 35,
   "metadata": {
    "collapsed": true
   },
   "outputs": [],
   "source": [
    "list1.append(7)\n",
    "list1.insert(3,5)"
   ]
  },
  {
   "cell_type": "markdown",
   "metadata": {},
   "source": [
    "Q2.3: Print every element of $list1$ between the first element and the second last element (both inclusive) by using the slice <br>\n",
    "$\\hspace{0.85cm}$ notation. <br>\n",
    "$\\hspace{0.85cm}$ Print every second element of $list1$ by using the slice notation."
   ]
  },
  {
   "cell_type": "code",
   "execution_count": 36,
   "metadata": {},
   "outputs": [
    {
     "name": "stdout",
     "output_type": "stream",
     "text": [
      "[1, 2, 3, 5, 4]\n",
      "[1, 3, 4]\n"
     ]
    }
   ],
   "source": [
    "print(list1[:-1])\n",
    "print(list1[::2])"
   ]
  },
  {
   "cell_type": "markdown",
   "metadata": {},
   "source": [
    "Q2.4: Make a deep copy of $list1$ and store it in $list2$."
   ]
  },
  {
   "cell_type": "code",
   "execution_count": 37,
   "metadata": {},
   "outputs": [
    {
     "name": "stdout",
     "output_type": "stream",
     "text": [
      "[1, 2, 3, 5, 4, 7]\n"
     ]
    }
   ],
   "source": [
    "list2 = list1[:]\n",
    "#list2 = list1.copy()\n",
    "\n",
    "list1[0] = 100\n",
    "print(list2) #check if the copy was deep\n",
    "list1[0] = 1"
   ]
  },
  {
   "cell_type": "markdown",
   "metadata": {},
   "source": [
    "Q2.5: Find out the index of integer 4 and delete it from $list2$ using this information. Remove integer 2 from $list2$ without using the index information."
   ]
  },
  {
   "cell_type": "code",
   "execution_count": 38,
   "metadata": {
    "collapsed": true
   },
   "outputs": [],
   "source": [
    "del list2[list2.index(4)]\n",
    "list2.remove(2)"
   ]
  },
  {
   "cell_type": "markdown",
   "metadata": {},
   "source": [
    "Q2.6: Print the difference between $list1$ and $list2$."
   ]
  },
  {
   "cell_type": "code",
   "execution_count": 39,
   "metadata": {},
   "outputs": [
    {
     "name": "stdout",
     "output_type": "stream",
     "text": [
      "[2, 4]\n"
     ]
    }
   ],
   "source": [
    "print(list(set(list1) - set(list2)))"
   ]
  },
  {
   "cell_type": "markdown",
   "metadata": {},
   "source": [
    "## 3. Loops and Conditions\n",
    "\n",
    "Q3.1: Loop through $list1$ and store all even values into the list $even$ and all odd values into the list $odd$. Print all even values."
   ]
  },
  {
   "cell_type": "code",
   "execution_count": 41,
   "metadata": {},
   "outputs": [
    {
     "name": "stdout",
     "output_type": "stream",
     "text": [
      "[2, 4]\n"
     ]
    }
   ],
   "source": [
    "even = []\n",
    "odd = []\n",
    "\n",
    "for elem in list1:\n",
    "    if elem%2==0:\n",
    "        even.append(elem)\n",
    "    else:\n",
    "        odd.append(elem)\n",
    "\n",
    "print(even)"
   ]
  },
  {
   "cell_type": "markdown",
   "metadata": {},
   "source": [
    "Q3.2: Loop through the list of new users and check if the user name is already used by comparing each entry with the list of <br>\n",
    "$\\hspace{0.85cm}$ current users. <br>\n",
    "$\\hspace{0.85cm}$ Print a message whether the user name is already taken or it's available. If the user name is already taken, print out <br>\n",
    "$\\hspace{0.85cm}$ the existing user name also."
   ]
  },
  {
   "cell_type": "code",
   "execution_count": 42,
   "metadata": {
    "collapsed": true
   },
   "outputs": [],
   "source": [
    "current_users = ['peter', 'paul', 'marie', 'max']\n",
    "new_users = ['anna', 'sascha', 'max']"
   ]
  },
  {
   "cell_type": "code",
   "execution_count": 43,
   "metadata": {
    "scrolled": true
   },
   "outputs": [
    {
     "name": "stdout",
     "output_type": "stream",
     "text": [
      "The user name Anna is available.\n",
      "The user name Sascha is available.\n",
      "Sorry, the user name Max is already in use.\n"
     ]
    }
   ],
   "source": [
    "for new_user in new_users:\n",
    "    if new_user in current_users:\n",
    "        print('Sorry, the user name {} is already in use.' .format(new_user.title()))\n",
    "    else:\n",
    "        print('The user name {} is available.' .format(new_user.title()))"
   ]
  },
  {
   "cell_type": "markdown",
   "metadata": {},
   "source": [
    "## 4. Dictionaries\n",
    "\n",
    "Q4.1: Start with an empty dictionary $cities$ and add at least 4 cities (of your choice) as keys and a subjective rating from 0  <br>\n",
    "$\\hspace{0.85cm}$ (dont want to visit) to 10 (want to visit) as values."
   ]
  },
  {
   "cell_type": "code",
   "execution_count": 45,
   "metadata": {
    "collapsed": true
   },
   "outputs": [],
   "source": [
    "cities = {}\n",
    "\n",
    "cities['paris'] = 3\n",
    "cities['kyoto'] = 8\n",
    "cities['rome'] = 6\n",
    "cities['limerick'] = 1"
   ]
  },
  {
   "cell_type": "markdown",
   "metadata": {},
   "source": [
    "Q4.2: Delete one of the key-value-pairs from the dictionary $cities$."
   ]
  },
  {
   "cell_type": "code",
   "execution_count": 51,
   "metadata": {
    "collapsed": true
   },
   "outputs": [],
   "source": [
    "del cities['limerick']\n",
    "#cities.pop('limerick')"
   ]
  },
  {
   "cell_type": "markdown",
   "metadata": {},
   "source": [
    "Q4.3: Loop through the dictionary $cities$ and print all key-value-pairs. <br>\n",
    "$\\hspace{0.85cm}$ Example: <br>\n",
    "$\\hspace{0.85cm}$ Key: X <br>\n",
    "$\\hspace{0.85cm}$ Value: Y <br>"
   ]
  },
  {
   "cell_type": "code",
   "execution_count": 52,
   "metadata": {},
   "outputs": [
    {
     "name": "stdout",
     "output_type": "stream",
     "text": [
      "\n",
      "Key: paris\n",
      "Value: 3\n",
      "\n",
      "Key: kyoto\n",
      "Value: 8\n",
      "\n",
      "Key: rome\n",
      "Value: 6\n"
     ]
    }
   ],
   "source": [
    "for key, value in cities.items():\n",
    "    print('\\nKey: ' + key)\n",
    "    print('Value: ' + str(value))"
   ]
  },
  {
   "cell_type": "markdown",
   "metadata": {},
   "source": [
    "Q4.4: Loop through the dictionary $cities$ and save all keys into the list $city$. Print all elements of the list $city$ in one line."
   ]
  },
  {
   "cell_type": "code",
   "execution_count": 53,
   "metadata": {
    "collapsed": true
   },
   "outputs": [],
   "source": [
    "city = []"
   ]
  },
  {
   "cell_type": "code",
   "execution_count": 54,
   "metadata": {},
   "outputs": [
    {
     "name": "stdout",
     "output_type": "stream",
     "text": [
      "paris, kyoto, rome\n"
     ]
    }
   ],
   "source": [
    "for key in cities.keys():\n",
    "    city.append(key)\n",
    "    \n",
    "print(', '.join(city))"
   ]
  },
  {
   "cell_type": "markdown",
   "metadata": {},
   "source": [
    "Q4.5  Add 'Osnabrueck' with your ranking to the dictionary $cities$"
   ]
  },
  {
   "cell_type": "code",
   "execution_count": null,
   "metadata": {},
   "outputs": [],
   "source": [
    "cities.update({'Osnabrück':9})"
   ]
  },
  {
   "cell_type": "markdown",
   "metadata": {},
   "source": [
    "Q4.5: Convert the given lists (of same length) into a dictionary. print the dictionary."
   ]
  },
  {
   "cell_type": "code",
   "execution_count": 55,
   "metadata": {
    "collapsed": true
   },
   "outputs": [],
   "source": [
    "name = ['peter', 'paul', 'marie', 'max']\n",
    "age = [20, 30, 40, 18]"
   ]
  },
  {
   "cell_type": "code",
   "execution_count": 56,
   "metadata": {},
   "outputs": [
    {
     "name": "stdout",
     "output_type": "stream",
     "text": [
      "{'peter': 20, 'paul': 30, 'marie': 40, 'max': 18}\n"
     ]
    }
   ],
   "source": [
    "mydict = dict(zip(name,age))\n",
    "print(mydict)\n",
    "\n",
    "#mydict = [{'name': f, 'age': c} for f, c in zip(name, age)]"
   ]
  },
  {
   "cell_type": "markdown",
   "metadata": {},
   "source": [
    "## 5. Functions\n",
    "\n",
    "Q5.1: Write a function that sums up all items of a list. Print the result for $list1$."
   ]
  },
  {
   "cell_type": "code",
   "execution_count": 57,
   "metadata": {
    "collapsed": true
   },
   "outputs": [
    {
     "ename": "SyntaxError",
     "evalue": "unexpected EOF while parsing (<ipython-input-57-334974865360>, line 2)",
     "output_type": "error",
     "traceback": [
      "\u001b[0;36m  File \u001b[0;32m\"<ipython-input-57-334974865360>\"\u001b[0;36m, line \u001b[0;32m2\u001b[0m\n\u001b[0;31m    #TODO\u001b[0m\n\u001b[0m         ^\u001b[0m\n\u001b[0;31mSyntaxError\u001b[0m\u001b[0;31m:\u001b[0m unexpected EOF while parsing\n"
     ]
    }
   ],
   "source": [
    "def sum_list(numbers):\n",
    "    #TODO\n",
    "    return sum_numbers"
   ]
  },
  {
   "cell_type": "code",
   "execution_count": 58,
   "metadata": {},
   "outputs": [
    {
     "name": "stdout",
     "output_type": "stream",
     "text": [
      "22\n"
     ]
    }
   ],
   "source": [
    "def sum_list(numbers):\n",
    "    sum_numbers = 0\n",
    "    for x in numbers:\n",
    "        sum_numbers += x\n",
    "    return sum_numbers\n",
    "\n",
    "print(sum_list(list1))"
   ]
  },
  {
   "cell_type": "markdown",
   "metadata": {},
   "source": [
    "Q5.2: Write a function that multiplies all items of a list. Print the result for $list1$."
   ]
  },
  {
   "cell_type": "code",
   "execution_count": null,
   "metadata": {
    "collapsed": true
   },
   "outputs": [],
   "source": [
    "def multiply_list(numbers):\n",
    "    #TODO\n",
    "    return total"
   ]
  },
  {
   "cell_type": "code",
   "execution_count": 59,
   "metadata": {},
   "outputs": [
    {
     "name": "stdout",
     "output_type": "stream",
     "text": [
      "840\n"
     ]
    }
   ],
   "source": [
    "def multiply_list(numbers):\n",
    "    total = 1\n",
    "    for x in numbers:\n",
    "        total *= x\n",
    "    return total\n",
    "\n",
    "print(multiply_list(list1))"
   ]
  },
  {
   "cell_type": "markdown",
   "metadata": {},
   "source": [
    "Q5.3: Write a function that finds the largest number of a list. Print the result for $list1$."
   ]
  },
  {
   "cell_type": "code",
   "execution_count": null,
   "metadata": {
    "collapsed": true
   },
   "outputs": [],
   "source": [
    "def max_num_in_list(numbers):\n",
    "    #TODO\n",
    "    return maximum"
   ]
  },
  {
   "cell_type": "code",
   "execution_count": 60,
   "metadata": {},
   "outputs": [
    {
     "name": "stdout",
     "output_type": "stream",
     "text": [
      "7\n"
     ]
    }
   ],
   "source": [
    "def max_num_in_list(numbers):\n",
    "    maximum = numbers[0]\n",
    "    for a in numbers:\n",
    "        if a > maximum:\n",
    "            maximum = a\n",
    "    return maximum\n",
    "\n",
    "print(max_num_in_list(list1))"
   ]
  },
  {
   "cell_type": "markdown",
   "metadata": {},
   "source": [
    "Function inside a function, decorator???"
   ]
  },
  {
   "cell_type": "markdown",
   "metadata": {},
   "source": [
    "Q5.4: Write a function to check if a given name already exists in the dictionary $mydict$ of Q4.6 "
   ]
  },
  {
   "cell_type": "code",
   "execution_count": null,
   "metadata": {},
   "outputs": [],
   "source": [
    "def is_name_present(x):\n",
    "  if x in mydict:\n",
    "      print('Name is present in the dictionary')\n",
    "  else:\n",
    "      print('Name is missing in the dictionary')\n",
    "is_name_present('paul')\n",
    "is_name_present('anna')"
   ]
  },
  {
   "cell_type": "markdown",
   "metadata": {},
   "source": [
    "Q5.5: Write a function that multiplies a vector by a scalar using list comprehensions"
   ]
  },
  {
   "cell_type": "code",
   "execution_count": null,
   "metadata": {},
   "outputs": [],
   "source": [
    "def scale(A, x): return [ai*x for ai in A]\n",
    "print(scale([1,2,3,4], 2))"
   ]
  },
  {
   "cell_type": "markdown",
   "metadata": {},
   "source": [
    "## 6. Numpy"
   ]
  },
  {
   "cell_type": "code",
   "execution_count": 63,
   "metadata": {
    "collapsed": true
   },
   "outputs": [],
   "source": [
    "import numpy as np"
   ]
  },
  {
   "cell_type": "markdown",
   "metadata": {},
   "source": [
    "Q6.1: Compute a matrix multiplication of two given numpy arrays $x$ and $y$."
   ]
  },
  {
   "cell_type": "code",
   "execution_count": 79,
   "metadata": {},
   "outputs": [
    {
     "name": "stdout",
     "output_type": "stream",
     "text": [
      "First array:\n",
      "[[0 1 2]\n",
      " [3 4 5]\n",
      " [6 7 8]]\n",
      "Second array:\n",
      "[[ 9 10 11]\n",
      " [12 13 14]\n",
      " [15 16 17]]\n"
     ]
    }
   ],
   "source": [
    "x = np.reshape(np.arange(9),(3,3))\n",
    "print(\"First array:\")\n",
    "print(x)\n",
    "y = np.reshape(np.arange(9,18),(3,3))\n",
    "print(\"Second array:\")\n",
    "print(y)"
   ]
  },
  {
   "cell_type": "code",
   "execution_count": 84,
   "metadata": {
    "scrolled": true
   },
   "outputs": [
    {
     "name": "stdout",
     "output_type": "stream",
     "text": [
      "Matrix multiplication of two arrays:\n",
      "[[ 42  45  48]\n",
      " [150 162 174]\n",
      " [258 279 300]]\n"
     ]
    }
   ],
   "source": [
    "matmul = x @ y\n",
    "# matmul = np.matmul(x,y)\n",
    "print(\"Matrix multiplication of two arrays:\")\n",
    "print(matmul)"
   ]
  },
  {
   "cell_type": "markdown",
   "metadata": {},
   "source": [
    "Q6.2: Compute a element-wise multiplication of $x$ and $y$."
   ]
  },
  {
   "cell_type": "code",
   "execution_count": 86,
   "metadata": {},
   "outputs": [
    {
     "name": "stdout",
     "output_type": "stream",
     "text": [
      "Element-wise multiplication of two arrays: \n",
      "[[  0  10  22]\n",
      " [ 36  52  70]\n",
      " [ 90 112 136]]\n"
     ]
    }
   ],
   "source": [
    "elemmul = x * y\n",
    "# elemmul = np.multiply(x,y)\n",
    "print(\"Element-wise multiplication of two arrays: \")\n",
    "print(elemmul)"
   ]
  },
  {
   "cell_type": "markdown",
   "metadata": {},
   "source": [
    "Q6.3: Select an element that can integer-divided with 3 from a given array $arr$ using a mask."
   ]
  },
  {
   "cell_type": "code",
   "execution_count": 88,
   "metadata": {
    "collapsed": true
   },
   "outputs": [
    {
     "ename": "SyntaxError",
     "evalue": "invalid syntax (<ipython-input-88-80f665d5cf00>, line 2)",
     "output_type": "error",
     "traceback": [
      "\u001b[0;36m  File \u001b[0;32m\"<ipython-input-88-80f665d5cf00>\"\u001b[0;36m, line \u001b[0;32m2\u001b[0m\n\u001b[0;31m    mask = # TODO\u001b[0m\n\u001b[0m                 ^\u001b[0m\n\u001b[0;31mSyntaxError\u001b[0m\u001b[0;31m:\u001b[0m invalid syntax\n"
     ]
    }
   ],
   "source": [
    "arr = np.reshape(np.arange(8),(2,4))\n",
    "mask = # TODO\n",
    "print(arr)\n",
    "print(arr[mask])"
   ]
  },
  {
   "cell_type": "code",
   "execution_count": 89,
   "metadata": {},
   "outputs": [
    {
     "name": "stdout",
     "output_type": "stream",
     "text": [
      "[[0 1 2 3]\n",
      " [4 5 6 7]]\n",
      "[0 3 6]\n"
     ]
    }
   ],
   "source": [
    "arr = np.reshape(np.arange(8),(2,4))\n",
    "mask = arr % 3 == 0\n",
    "print(arr)\n",
    "print(arr[mask])"
   ]
  }
 ],
 "metadata": {
  "kernelspec": {
   "display_name": "Python 3",
   "language": "python",
   "name": "python3"
  },
  "language_info": {
   "codemirror_mode": {
    "name": "ipython",
    "version": 3
   },
   "file_extension": ".py",
   "mimetype": "text/x-python",
   "name": "python",
   "nbconvert_exporter": "python",
   "pygments_lexer": "ipython3",
   "version": "3.6.5"
  }
 },
 "nbformat": 4,
 "nbformat_minor": 2
}
