{
 "cells": [
  {
   "cell_type": "markdown",
   "metadata": {},
   "source": [
    "# Python excercise: Action & Cognition Computational Cognition\n",
    "\n",
    "Here are some exercises to test your basic knowledge in Python programming"
   ]
  },
  {
   "cell_type": "markdown",
   "metadata": {},
   "source": [
    "## 1. String operations\n",
    "\n",
    "Q1.1: Given the first and the last name as separate string objects. Concatenate these two strings to get \"Ada Lovelace\"."
   ]
  },
  {
   "cell_type": "code",
   "execution_count": null,
   "metadata": {},
   "outputs": [],
   "source": [
    "first_name = 'Ada'\n",
    "last_name = 'Lovelace'"
   ]
  },
  {
   "cell_type": "code",
   "execution_count": null,
   "metadata": {},
   "outputs": [],
   "source": [
    "full_name = first_name + ' ' + last_name"
   ]
  },
  {
   "cell_type": "markdown",
   "metadata": {},
   "source": [
    "Q1.2: Print a simple message like \"Hello Ada Lovelace, how are you?\" using string formating."
   ]
  },
  {
   "cell_type": "code",
   "execution_count": null,
   "metadata": {},
   "outputs": [],
   "source": [
    "print('Hello {}, how are you?' .format(full_name))"
   ]
  },
  {
   "cell_type": "markdown",
   "metadata": {},
   "source": [
    "## 2. Lists\n",
    "\n",
    "Q2.1: Initialise a list which contains integer 1, 2, 3, 4. Name the object as $list1$."
   ]
  },
  {
   "cell_type": "code",
   "execution_count": null,
   "metadata": {},
   "outputs": [],
   "source": [
    "list1 = [1, 2, 3, 4]"
   ]
  },
  {
   "cell_type": "markdown",
   "metadata": {},
   "source": [
    "Q2.2: Insert integer 7 at the end of the $list1$ and integer 5 between integer 3 and 4. "
   ]
  },
  {
   "cell_type": "code",
   "execution_count": null,
   "metadata": {},
   "outputs": [],
   "source": [
    "list1.append(7)\n",
    "list1.insert(3,5)"
   ]
  },
  {
   "cell_type": "markdown",
   "metadata": {},
   "source": [
    "Q2.3: Print every element of $list1$ between the first element and the second last element by using the slice notation. <br>\n",
    "$\\hspace{0.85cm}$ Print every second element of $list1$ by using the slice notation."
   ]
  },
  {
   "cell_type": "code",
   "execution_count": null,
   "metadata": {},
   "outputs": [],
   "source": [
    "print(list1[:-1])\n",
    "print(list1[::2])"
   ]
  },
  {
   "cell_type": "markdown",
   "metadata": {},
   "source": [
    "Q2.4: Make a copy of $list1$ and store it in $list2$."
   ]
  },
  {
   "cell_type": "code",
   "execution_count": null,
   "metadata": {},
   "outputs": [],
   "source": [
    "list2 = list1[:]\n",
    "#list2 = list1.copy()"
   ]
  },
  {
   "cell_type": "markdown",
   "metadata": {},
   "source": [
    "Q2.5: Find out the index of integer 4 and delete it from $list2$ using this information. Remove integer 2 from $list2$ without using the index information."
   ]
  },
  {
   "cell_type": "code",
   "execution_count": null,
   "metadata": {},
   "outputs": [],
   "source": [
    "del list2[list2.index(4)]\n",
    "list2.remove(2)"
   ]
  },
  {
   "cell_type": "markdown",
   "metadata": {},
   "source": [
    "Q2.6: Print the difference between $list1$ and $list2$."
   ]
  },
  {
   "cell_type": "code",
   "execution_count": null,
   "metadata": {},
   "outputs": [],
   "source": [
    "print(list(set(list1) - set(list2)))"
   ]
  },
  {
   "cell_type": "markdown",
   "metadata": {},
   "source": [
    "## 3. Loops and Conditions\n",
    "\n",
    "Q3.1: Loop through $list1$ and store all even values into the list $even$ and all odd values into the list $odd$. Print all even values."
   ]
  },
  {
   "cell_type": "code",
   "execution_count": null,
   "metadata": {},
   "outputs": [],
   "source": [
    "even = []\n",
    "odd = []\n",
    "\n",
    "for elem in list1:\n",
    "    if elem%2==0:\n",
    "        even.append(elem)\n",
    "    else:\n",
    "        odd.append(elem)\n",
    "\n",
    "print(even)"
   ]
  },
  {
   "cell_type": "markdown",
   "metadata": {},
   "source": [
    "Q3.2: Loop through the list of new users and check if the user name is already used by comparing each entry with the list of current users. <br>\n",
    "$\\hspace{0.85cm}$ Print a message if the user name is already taken or if the user name is available."
   ]
  },
  {
   "cell_type": "code",
   "execution_count": null,
   "metadata": {},
   "outputs": [],
   "source": [
    "current_users = ['peter', 'paul', 'marie', 'max']\n",
    "new_users = ['anna', 'sascha', 'max']\n",
    "\n",
    "for new_user in new_users:\n",
    "    if new_user in current_users:\n",
    "        print('Sorry, the user name {} is already in use.' .format(new_user.title()))\n",
    "    else:\n",
    "        print('The user name {} is available.' .format(new_user.title()))"
   ]
  },
  {
   "cell_type": "markdown",
   "metadata": {},
   "source": [
    "## 4. Dictionaries\n",
    "\n",
    "Q4.1: Start with an empty dictionary $cities$ and add at least 4 cities as keys and a ranking from 0 (dont want to visit) to 10 (want to visit) as value."
   ]
  },
  {
   "cell_type": "code",
   "execution_count": 2,
   "metadata": {},
   "outputs": [],
   "source": [
    "cities = {}\n",
    "\n",
    "cities['paris'] = 3\n",
    "cities['kyoto'] = 8\n",
    "cities['rome'] = 6\n",
    "cities['limerick'] = 1"
   ]
  },
  {
   "cell_type": "markdown",
   "metadata": {},
   "source": [
    "Q4.2: Delete one of the key-value-pairs from the dictionary $cities$."
   ]
  },
  {
   "cell_type": "code",
   "execution_count": 3,
   "metadata": {},
   "outputs": [],
   "source": [
    "del cities['limerick']\n",
    "#cities.pop('limerick')"
   ]
  },
  {
   "cell_type": "markdown",
   "metadata": {},
   "source": [
    "Q4.3: Loop through the dictionary $cities$ and print all key-value-pairs: <br>\n",
    "$\\hspace{0.85cm}$ Key: X <br>\n",
    "$\\hspace{0.85cm}$ Value: Y <br>"
   ]
  },
  {
   "cell_type": "code",
   "execution_count": 4,
   "metadata": {},
   "outputs": [
    {
     "name": "stdout",
     "output_type": "stream",
     "text": [
      "\n",
      "Key: paris\n",
      "Value: 3\n",
      "\n",
      "Key: kyoto\n",
      "Value: 8\n",
      "\n",
      "Key: rome\n",
      "Value: 6\n"
     ]
    }
   ],
   "source": [
    "for key, value in cities.items():\n",
    "    print('\\nKey: ' + key)\n",
    "    print('Value: ' + str(value))"
   ]
  },
  {
   "cell_type": "markdown",
   "metadata": {},
   "source": [
    "Q4.4: Loop through the dictionary $cities$ and save all keys into the list $city$. Print all elements of the list $city$."
   ]
  },
  {
   "cell_type": "code",
   "execution_count": 5,
   "metadata": {},
   "outputs": [
    {
     "name": "stdout",
     "output_type": "stream",
     "text": [
      "paris, kyoto, rome\n"
     ]
    }
   ],
   "source": [
    "city = []\n",
    "\n",
    "for key in cities.keys():\n",
    "    city.append(key)\n",
    "    \n",
    "print(', '.join(city))"
   ]
  },
  {
   "cell_type": "markdown",
   "metadata": {},
   "source": [
    "Q4.5: Convert the given lists (of same length) into a dictionary."
   ]
  },
  {
   "cell_type": "code",
   "execution_count": 7,
   "metadata": {},
   "outputs": [
    {
     "name": "stdout",
     "output_type": "stream",
     "text": [
      "{'peter': 20, 'paul': 30, 'marie': 40, 'max': 18}\n"
     ]
    }
   ],
   "source": [
    "name = ['peter', 'paul', 'marie', 'max']\n",
    "age = [20, 30, 40, 18]\n",
    "mydict = dict(zip(name,age))\n",
    "print(mydict)\n",
    "\n",
    "#mydict = [{'name': f, 'age': c} for f, c in zip(name, age)]"
   ]
  },
  {
   "cell_type": "markdown",
   "metadata": {},
   "source": [
    "## 5 Functions\n",
    "\n",
    "Q5.1: Write a function that sums up all items of a list. Print the result for $list1$."
   ]
  },
  {
   "cell_type": "code",
   "execution_count": null,
   "metadata": {},
   "outputs": [],
   "source": [
    "def sum_list(numbers):\n",
    "    sum_numbers = 0\n",
    "    for x in numbers:\n",
    "        sum_numbers += x\n",
    "    return sum_numbers\n",
    "\n",
    "print(sum_list(list1))"
   ]
  },
  {
   "cell_type": "markdown",
   "metadata": {},
   "source": [
    "Q5.2: Write a function that multiplies all items of a list. Print the result for $list1$."
   ]
  },
  {
   "cell_type": "code",
   "execution_count": null,
   "metadata": {},
   "outputs": [],
   "source": [
    "def multiply(numbers):\n",
    "    total = 1\n",
    "    for x in numbers:\n",
    "        total *= x\n",
    "    return total\n",
    "\n",
    "print(multiply(list1))"
   ]
  },
  {
   "cell_type": "markdown",
   "metadata": {},
   "source": [
    "Q5.3: Write a function that finds the largest number of a list. Print the result for $list1$."
   ]
  },
  {
   "cell_type": "code",
   "execution_count": null,
   "metadata": {},
   "outputs": [],
   "source": [
    "def max_num_in_list(numbers):\n",
    "    maximum = numbers[0]\n",
    "    for a in numbers:\n",
    "        if a > maximum:\n",
    "            maximum = a\n",
    "    return maximum\n",
    "\n",
    "print(max_num_in_list(list1))"
   ]
  }
 ],
 "metadata": {
  "kernelspec": {
   "display_name": "Python 3",
   "language": "python",
   "name": "python3"
  },
  "language_info": {
   "codemirror_mode": {
    "name": "ipython",
    "version": 3
   },
   "file_extension": ".py",
   "mimetype": "text/x-python",
   "name": "python",
   "nbconvert_exporter": "python",
   "pygments_lexer": "ipython3",
   "version": "3.6.5"
  }
 },
 "nbformat": 4,
 "nbformat_minor": 2
}
