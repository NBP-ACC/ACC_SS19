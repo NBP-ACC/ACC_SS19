{
 "cells": [
  {
   "cell_type": "markdown",
   "metadata": {},
   "source": [
    "# Python excercise: Action & Cognition Computational Cognition\n",
    "\n",
    "Here are some exercises to test your basic knowledge in Python programming\n",
    "Author"
   ]
  },
  {
   "cell_type": "markdown",
   "metadata": {},
   "source": [
    "## 1. String operations\n",
    "\n",
    "Q1.1: The first and the last name are given as separate string objects. Concatenate these two strings to get \"Ada Lovelace\" and assign it to the variable $fullname$."
   ]
  },
  {
   "cell_type": "code",
   "execution_count": null,
   "metadata": {},
   "outputs": [],
   "source": [
    "first_name = 'Ada'\n",
    "last_name = 'Lovelace'"
   ]
  },
  {
   "cell_type": "code",
   "execution_count": null,
   "metadata": {},
   "outputs": [],
   "source": [
    "full_name = first_name + ' ' + last_name"
   ]
  },
  {
   "cell_type": "markdown",
   "metadata": {},
   "source": [
    "Q1.2: Print a simple message \"Hello Ada Lovelace, how are you?\" using string formatting (Don't print Ada Lovelace explicitly, use $fullname$)."
   ]
  },
  {
   "cell_type": "code",
   "execution_count": null,
   "metadata": {},
   "outputs": [],
   "source": [
    "print('Hello {}, how are you?' .format(full_name))"
   ]
  },
  {
   "cell_type": "markdown",
   "metadata": {},
   "source": [
    "## 2. Lists\n",
    "\n",
    "Q2.1: Initialise a list which contains integer 1, 2, 3, 4. Name the object as $list1$."
   ]
  },
  {
   "cell_type": "code",
   "execution_count": null,
   "metadata": {},
   "outputs": [],
   "source": [
    "list1 = [1, 2, 3, 4]"
   ]
  },
  {
   "cell_type": "markdown",
   "metadata": {},
   "source": [
    "Q2.2: Insert integer 7 at the end of the $list1$ and integer 5 between integer 3 and 4. "
   ]
  },
  {
   "cell_type": "code",
   "execution_count": null,
   "metadata": {},
   "outputs": [],
   "source": [
    "list1.append(7)\n",
    "list1.insert(3,5)"
   ]
  },
  {
   "cell_type": "markdown",
   "metadata": {},
   "source": [
    "Q2.3: Print every element of $list1$ between the first element and the second last element (both inclusive) by using the slice <br>\n",
    "$\\hspace{0.85cm}$ notation. <br>\n",
    "$\\hspace{0.85cm}$ Print every second element of $list1$ by using the slice notation."
   ]
  },
  {
   "cell_type": "code",
   "execution_count": null,
   "metadata": {},
   "outputs": [],
   "source": [
    "print(list1[:-1])\n",
    "print(list1[::2])"
   ]
  },
  {
   "cell_type": "markdown",
   "metadata": {},
   "source": [
    "Q2.4: Make a deep copy of $list1$ and store it in $list2$."
   ]
  },
  {
   "cell_type": "code",
   "execution_count": null,
   "metadata": {},
   "outputs": [],
   "source": [
    "list2 = list1[:]\n",
    "#list2 = list1.copy()\n",
    "\n",
    "list1[0] = 100\n",
    "print(list2) #check if the copy was deep\n",
    "list1[0] = 1"
   ]
  },
  {
   "cell_type": "markdown",
   "metadata": {},
   "source": [
    "Q2.5: Find out the index of integer 4 and delete it from $list2$ using this information. Remove integer 2 from $list2$ without using the index information."
   ]
  },
  {
   "cell_type": "code",
   "execution_count": null,
   "metadata": {},
   "outputs": [],
   "source": [
    "del list2[list2.index(4)]\n",
    "list2.remove(2)"
   ]
  },
  {
   "cell_type": "markdown",
   "metadata": {},
   "source": [
    "Q2.6: Print the difference between $list1$ and $list2$."
   ]
  },
  {
   "cell_type": "code",
   "execution_count": null,
   "metadata": {},
   "outputs": [],
   "source": [
    "print(list(set(list1) - set(list2)))"
   ]
  },
  {
   "cell_type": "markdown",
   "metadata": {},
   "source": [
    "Q2.7: Loop through $list1$ and store all even values into the list $even$ and all odd values into the list $odd$. Print all even values."
   ]
  },
  {
   "cell_type": "code",
   "execution_count": null,
   "metadata": {},
   "outputs": [],
   "source": [
    "even = []\n",
    "odd = []\n",
    "\n",
    "for elem in list1:\n",
    "    if elem%2==0:\n",
    "        even.append(elem)\n",
    "    else:\n",
    "        odd.append(elem)\n",
    "\n",
    "print(even)"
   ]
  },
  {
   "cell_type": "markdown",
   "metadata": {},
   "source": [
    "## 3. Dictionaries\n",
    "\n",
    "Q3.1: Start with an empty dictionary $cities$ and add at least 5 cities (of your choice) as keys and a subjective rating from 0  <br>\n",
    "$\\hspace{0.85cm}$ (dont want to visit) to 10 (want to visit) as values."
   ]
  },
  {
   "cell_type": "code",
   "execution_count": null,
   "metadata": {},
   "outputs": [],
   "source": [
    "cities = {}\n",
    "\n",
    "cities['paris'] = 3\n",
    "cities['kyoto'] = 8\n",
    "cities['rome'] = 7\n",
    "cities['limerick'] = 1\n",
    "cities['clearwater'] = 5"
   ]
  },
  {
   "cell_type": "markdown",
   "metadata": {},
   "source": [
    "Q3.2: Check if the key 'helsinki' is present. If not add it to the dictionary with a subjective rating as mentioned in Q3.1."
   ]
  },
  {
   "cell_type": "code",
   "execution_count": null,
   "metadata": {},
   "outputs": [],
   "source": [
    "if key in cities:\n",
    "    print('Key exists already.')\n",
    "else:\n",
    "    cities.update({'helsinki':9})"
   ]
  },
  {
   "cell_type": "markdown",
   "metadata": {},
   "source": [
    "Q3.3: Loop through the dictionary $cities$ and save all keys into the list $city$. Print all elements of the list $city$ in one line."
   ]
  },
  {
   "cell_type": "code",
   "execution_count": null,
   "metadata": {},
   "outputs": [],
   "source": [
    "city = []"
   ]
  },
  {
   "cell_type": "code",
   "execution_count": null,
   "metadata": {},
   "outputs": [],
   "source": [
    "for key in cities:\n",
    "    city.append(key)\n",
    "    \n",
    "print(', '.join(city))"
   ]
  },
  {
   "cell_type": "markdown",
   "metadata": {},
   "source": [
    "Q3.4: Delete all key-value-pairs from the dictionary $cities$ that have a value less than 5."
   ]
  },
  {
   "cell_type": "code",
   "execution_count": null,
   "metadata": {},
   "outputs": [],
   "source": [
    "delete = []\n",
    "\n",
    "for key, value in cities.items():\n",
    "    if value < 5:\n",
    "        delete.append(key)\n",
    "        \n",
    "for key in delete:\n",
    "    if key in cities:\n",
    "        del cities[key]"
   ]
  },
  {
   "cell_type": "markdown",
   "metadata": {},
   "source": [
    "Q3.5: Convert the given lists (of same length) into a dictionary. Print the dictionary."
   ]
  },
  {
   "cell_type": "code",
   "execution_count": null,
   "metadata": {},
   "outputs": [],
   "source": [
    "name = ['peter', 'paul', 'marie', 'max']\n",
    "age = [20, 30, 40, 18]"
   ]
  },
  {
   "cell_type": "code",
   "execution_count": null,
   "metadata": {},
   "outputs": [],
   "source": [
    "mydict = dict(zip(name,age))\n",
    "print(mydict)\n",
    "\n",
    "#mydict = [{'name': f, 'age': c} for f, c in zip(name, age)]"
   ]
  },
  {
   "cell_type": "markdown",
   "metadata": {},
   "source": [
    "## 4. Functions\n",
    "\n",
    "Q4.1: Write a function that sums up all items of a list. Print the result for $list1$."
   ]
  },
  {
   "cell_type": "code",
   "execution_count": null,
   "metadata": {},
   "outputs": [],
   "source": [
    "def sum_list(numbers):\n",
    "    #TODO\n",
    "    return sum_numbers"
   ]
  },
  {
   "cell_type": "code",
   "execution_count": null,
   "metadata": {},
   "outputs": [],
   "source": [
    "def sum_list(numbers):\n",
    "    sum_numbers = 0\n",
    "    for x in numbers:\n",
    "        sum_numbers += x\n",
    "    return sum_numbers\n",
    "\n",
    "print(sum_list(list1))"
   ]
  },
  {
   "cell_type": "markdown",
   "metadata": {},
   "source": [
    "Q4.2: Write a function that finds the largest number of a list. Print the result for $list1$."
   ]
  },
  {
   "cell_type": "code",
   "execution_count": null,
   "metadata": {},
   "outputs": [],
   "source": [
    "def max_num_in_list(numbers):\n",
    "    #TODO\n",
    "    return maximum"
   ]
  },
  {
   "cell_type": "code",
   "execution_count": null,
   "metadata": {},
   "outputs": [],
   "source": [
    "def max_num_in_list(numbers):\n",
    "    maximum = numbers[0]\n",
    "    for a in numbers:\n",
    "        if a > maximum:\n",
    "            maximum = a\n",
    "    return maximum\n",
    "\n",
    "print(max_num_in_list(list1))"
   ]
  },
  {
   "cell_type": "markdown",
   "metadata": {},
   "source": [
    "Q4.3: Write a function to check if a given name already exists in the dictionary $mydict$ of Q3.5."
   ]
  },
  {
   "cell_type": "code",
   "execution_count": null,
   "metadata": {},
   "outputs": [],
   "source": [
    "def is_name_present(x):\n",
    "    if x in mydict:\n",
    "        print('Name is present in the dictionary')\n",
    "    else:\n",
    "        print('Name is missing in the dictionary')\n",
    "        \n",
    "is_name_present('paul')\n",
    "is_name_present('anna')"
   ]
  },
  {
   "cell_type": "markdown",
   "metadata": {},
   "source": [
    "Q4.4: Write a function that multiplies vector $A$ by a scalar $x$ using list comprehension."
   ]
  },
  {
   "cell_type": "code",
   "execution_count": null,
   "metadata": {},
   "outputs": [],
   "source": [
    "A = [6, 5]\n",
    "B = [2, 2]\n",
    "\n",
    "x = 3"
   ]
  },
  {
   "cell_type": "code",
   "execution_count": null,
   "metadata": {},
   "outputs": [],
   "source": [
    "def scale(A, x): \n",
    "    #TODO\n",
    "    return scalar_mul"
   ]
  },
  {
   "cell_type": "code",
   "execution_count": null,
   "metadata": {},
   "outputs": [],
   "source": [
    "def scale(A, x): \n",
    "    scalar_mul = [ai*x for ai in A]\n",
    "    return scalar_mul\n",
    "\n",
    "print(scale(A, X))"
   ]
  },
  {
   "cell_type": "markdown",
   "metadata": {},
   "source": [
    "Q4.5: Write a function that computes the dot product of $A$ and $B$ using list comprehension."
   ]
  },
  {
   "cell_type": "code",
   "execution_count": null,
   "metadata": {},
   "outputs": [],
   "source": [
    "def dot(A, B):\n",
    "    #TODO\n",
    "    return dot_product"
   ]
  },
  {
   "cell_type": "code",
   "execution_count": null,
   "metadata": {},
   "outputs": [],
   "source": [
    "def dot(A, B):\n",
    "    dot_product = sum([ai*bi for (ai, bi) in zip(A, B)])\n",
    "    return dot_product\n",
    "\n",
    "print(dot(A, B))"
   ]
  },
  {
   "cell_type": "markdown",
   "metadata": {},
   "source": [
    "Q4.6: Write a function that computes the distance between $A$ and $B$ (that is the length of the vector $\\overrightarrow{AB}$) using list comprehension."
   ]
  },
  {
   "cell_type": "code",
   "execution_count": null,
   "metadata": {},
   "outputs": [],
   "source": [
    "def distance(A, B):\n",
    "    #TODO    \n",
    "    return dist"
   ]
  },
  {
   "cell_type": "code",
   "execution_count": null,
   "metadata": {},
   "outputs": [],
   "source": [
    "import math\n",
    "\n",
    "def distance(A, B):\n",
    "    dist_vector = [ai-bi for (ai, bi) in zip(A, B)]\n",
    "    dist = math.sqrt(sum([i**2 for i in dist_vector]))    \n",
    "    return dist\n",
    "\n",
    "print(distance(A, B))"
   ]
  },
  {
   "cell_type": "markdown",
   "metadata": {},
   "source": [
    "## 5. Numpy"
   ]
  },
  {
   "cell_type": "code",
   "execution_count": null,
   "metadata": {},
   "outputs": [],
   "source": [
    "import numpy as np"
   ]
  },
  {
   "cell_type": "markdown",
   "metadata": {},
   "source": [
    "Q5.1: Compute a matrix multiplication of two given numpy arrays $x$ and $y$."
   ]
  },
  {
   "cell_type": "code",
   "execution_count": null,
   "metadata": {},
   "outputs": [],
   "source": [
    "x = np.reshape(np.arange(9),(3,3))\n",
    "print(\"First array:\")\n",
    "print(x)\n",
    "y = np.reshape(np.arange(9,18),(3,3))\n",
    "print(\"Second array:\")\n",
    "print(y)"
   ]
  },
  {
   "cell_type": "code",
   "execution_count": null,
   "metadata": {
    "scrolled": true
   },
   "outputs": [],
   "source": [
    "matmul = x @ y\n",
    "# matmul = np.matmul(x,y)\n",
    "print(\"Matrix multiplication of two arrays:\")\n",
    "print(matmul)"
   ]
  },
  {
   "cell_type": "markdown",
   "metadata": {},
   "source": [
    "Q5.2: Compute a element-wise multiplication of $x$ and $y$."
   ]
  },
  {
   "cell_type": "code",
   "execution_count": null,
   "metadata": {},
   "outputs": [],
   "source": [
    "elemmul = x * y\n",
    "# elemmul = np.multiply(x,y)\n",
    "print(\"Element-wise multiplication of two arrays: \")\n",
    "print(elemmul)"
   ]
  },
  {
   "cell_type": "markdown",
   "metadata": {},
   "source": [
    "Q5.3: Select an element that can integer-divided with 3 from a given array $arr$ using a mask."
   ]
  },
  {
   "cell_type": "code",
   "execution_count": null,
   "metadata": {},
   "outputs": [],
   "source": [
    "arr = np.reshape(np.arange(8),(2,4))\n",
    "mask = #TODO\n",
    "print(arr)\n",
    "print(arr[mask])"
   ]
  },
  {
   "cell_type": "code",
   "execution_count": null,
   "metadata": {},
   "outputs": [],
   "source": [
    "arr = np.reshape(np.arange(8),(2,4))\n",
    "print(arr)\n",
    "mask = arr % 3 == 0\n",
    "print(arr[mask])"
   ]
  }
 ],
 "metadata": {
  "kernelspec": {
   "display_name": "Python 3",
   "language": "python",
   "name": "python3"
  },
  "language_info": {
   "codemirror_mode": {
    "name": "ipython",
    "version": 3
   },
   "file_extension": ".py",
   "mimetype": "text/x-python",
   "name": "python",
   "nbconvert_exporter": "python",
   "pygments_lexer": "ipython3",
   "version": "3.6.7"
  }
 },
 "nbformat": 4,
 "nbformat_minor": 2
}
